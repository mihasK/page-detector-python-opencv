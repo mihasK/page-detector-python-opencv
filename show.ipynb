{
 "cells": [
  {
   "cell_type": "code",
   "execution_count": 8,
   "metadata": {},
   "outputs": [],
   "source": [
    "from page_extractor import *\n",
    "\n"
   ]
  },
  {
   "cell_type": "code",
   "execution_count": 9,
   "metadata": {},
   "outputs": [],
   "source": [
    "import tracemalloc\n",
    "\n",
    "tracemalloc.start()"
   ]
  },
  {
   "cell_type": "code",
   "execution_count": 6,
   "metadata": {},
   "outputs": [],
   "source": [
    "import config\n",
    "config.OUTPUT_PROCESS = False\n",
    "config.DRAW_HINTS = True\n",
    "\n",
    "from icecream import ic\n",
    "ic.disable()\n",
    "\n",
    "def get_page_extractor():\n",
    "    return PageExtractor(\n",
    "     is_extract=False\n",
    "    )"
   ]
  },
  {
   "cell_type": "code",
   "execution_count": 11,
   "metadata": {},
   "outputs": [],
   "source": [
    "import ipywidgets as widgets\n",
    "from IPython.display import display\n",
    "from ipywidgets import interact_manual\n"
   ]
  },
  {
   "cell_type": "code",
   "execution_count": 6,
   "metadata": {},
   "outputs": [
    {
     "name": "stdout",
     "output_type": "stream",
     "text": [
      "Finding a page took 1.001sec\n",
      "timebudget report...\n",
      "           Finding a page:  501.74ms for      6 calls\n"
     ]
    }
   ],
   "source": [
    "from timebudget import timebudget\n",
    "# import time\n",
    "# with timebudget(\"Finding a page\"):\n",
    "#     time.sleep(1)\n",
    "\n",
    "# timebudget.report()\n",
    "    "
   ]
  },
  {
   "cell_type": "code",
   "execution_count": null,
   "metadata": {},
   "outputs": [],
   "source": [
    "fu = widgets.FileUpload(\n",
    "    accept='',  # Accepted file extension e.g. '.txt', '.pdf', 'image/*', 'image/*,.pdf'\n",
    "    multiple=False  # True to accept multiple files upload else False\n",
    ")\n",
    "\n",
    "upload = None\n",
    "timebudget.set_quiet() \n",
    "\n",
    "def show_img(x):\n",
    "    def it_over_uploads():\n",
    "        for k, v in x.items():\n",
    "            upload = v\n",
    "        #     print(x)\n",
    "            w1 = widgets.Image(value=upload['content'])\n",
    "\n",
    "            jpg_as_np = np.frombuffer(upload['content'], dtype=np.uint8)\n",
    "            img = cv2.imdecode(jpg_as_np, flags=1)\n",
    "\n",
    "            timebudget.set_quiet() \n",
    "            with timebudget(\"TOTAL\", quiet=True):\n",
    "                extracted = get_page_extractor()(img)\n",
    "\n",
    "            mem = tracemalloc.get_traced_memory()\n",
    "            print('Cur max mem usage: from %s(MB) to %s(MB)' % (mem[0]//10**6, mem[1]//10**6)  )\n",
    "    #         tracemalloc.reset_peak()\n",
    "\n",
    "            timebudget.report(percent_of='TOTAL', reset=True)\n",
    "\n",
    "\n",
    "            w2 = widgets.Image(value=cv2.imencode('.JPEG', extracted)[1].tobytes())\n",
    "\n",
    "            items = [w2]\n",
    "            display(\n",
    "                widgets.GridBox(items, layout=widgets.Layout(grid_template_columns=\"repeat(2, 500px)\"))\n",
    "            )\n",
    "    it_over_uploads()\n",
    "    %reset -f array\n",
    "    import gc; gc.collect()\n",
    "    \n",
    "        \n",
    "        \n",
    "\n",
    "interact_manual(show_img,x=fu)\n",
    "\n",
    "print('Upload an image and click ')"
   ]
  },
  {
   "cell_type": "code",
   "execution_count": null,
   "metadata": {},
   "outputs": [],
   "source": []
  }
 ],
 "metadata": {
  "kernelspec": {
   "display_name": "Python 3",
   "language": "python",
   "name": "python3"
  },
  "language_info": {
   "codemirror_mode": {
    "name": "ipython",
    "version": 3
   },
   "file_extension": ".py",
   "mimetype": "text/x-python",
   "name": "python",
   "nbconvert_exporter": "python",
   "pygments_lexer": "ipython3",
   "version": "3.7.3"
  }
 },
 "nbformat": 4,
 "nbformat_minor": 4
}
